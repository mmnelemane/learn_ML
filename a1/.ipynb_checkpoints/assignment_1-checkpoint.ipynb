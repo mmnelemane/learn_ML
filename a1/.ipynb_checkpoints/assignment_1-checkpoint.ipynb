{
 "cells": [
  {
   "cell_type": "markdown",
   "metadata": {},
   "source": [
    "<img src=\"images/logo.png\" style=\"width: 100px;\"/>\n",
    "<h1><center>Assignment 1</center></h1>\n",
    "<h3><center>Basic Concepts of Machine Learning and Foundations of Concept Learning</h3></center> \n",
    "\n",
    "<center>Due: 17.11.2020 at 23:59</center>"
   ]
  },
  {
   "cell_type": "markdown",
   "metadata": {},
   "source": [
    "### How to upload:\n",
    "\n",
    "Upload your solution via the VC course. Please upload **one Zip archive** per group. The Zip must contain:\n",
    "* Your solution **notebook** (a **.ipynb** file)\n",
    "* An **images folder** with all your images (keep the size of the images relatively small)\n",
    "* A **data folder** with the datasets (you probably don't have to change anything here)\n",
    "\n",
    "Your Zip should be named after the following scheme:\n",
    "\n",
    "* assignment\\_\"**assignment number**\"\\_solution.zip"
   ]
  },
  {
   "cell_type": "markdown",
   "metadata": {},
   "source": [
    "---\n",
    "# 1) Ordering Hypotheses in a general-to-specific Lattice\n",
    "José likes to read. The library he visits uses four attributes to describe books.\n",
    "- Length (with values *short*, *medium*, *long*)\n",
    "- Language (with values *english*, *spanish*, *german*)\n",
    "- Genre (with values *crime*, *romance*, *fiction*, *biography*)\n",
    "- Format (with values *eBook*, *paperback*)\n",
    "\n",
    "Given the four hypotheses below, consisting of a conjunction of constraints on the instance attributes, build a general-to-specific lattice.  \n",
    "- h<sub>1</sub> = <*short*,&nbsp; *spanish*, *romance*, &nbsp;*paperback*>   \n",
    "- h<sub>2</sub> = \\< &nbsp;?,&nbsp; &nbsp; &nbsp; &nbsp; &nbsp; &nbsp;?,&nbsp;&nbsp; &nbsp; &nbsp;*romance*,&nbsp; *paperback*>\n",
    "- h<sub>3</sub> = \\<&nbsp; ?,&nbsp; &nbsp; &nbsp;&nbsp;*spanish*,&nbsp; &nbsp; &nbsp; ?, &nbsp; &nbsp; &nbsp; &nbsp;*paperback*>   \n",
    "- h<sub>4</sub> = \\<&nbsp; ?,&nbsp; &nbsp; &nbsp; &nbsp; &nbsp; &nbsp;?, &nbsp; &nbsp; &nbsp; &nbsp; &nbsp; ?, &nbsp; &nbsp; &nbsp; &nbsp;*paperback*>\n",
    "\n",
    "\n",
    "You can draw the lattice on a piece of paper and include a photograph of that, or use digital tools. See the very bottom of this document for tips on how to include an image in your solution.\n"
   ]
  },
  {
   "cell_type": "code",
   "execution_count": 2,
   "metadata": {},
   "outputs": [
    {
     "data": {
      "image/jpeg": "[encoded data removed]",
      "text/plain": [
       "<IPython.core.display.Image object>"
      ]
     },
     "execution_count": 2,
     "metadata": {},
     "output_type": "execute_result"
    }
   ],
   "source": [
    "from IPython.display import Image\n",
    "Image(\"images/lattice_assn1_1.jpg\")"
   ]
  },
  {
   "cell_type": "markdown",
   "metadata": {},
   "source": [
    "---\n",
    "# 2) Instance- and Hypothesis Space\n",
    "\n",
    "The following table gives a training set for the concept *cat*:\n",
    "\n",
    "| example | *size* | *whiskers* | *color* | *fur* | *cat* |\n",
    "|:-------:|:------:|:----------:|:-------:|:-----:|:-----:|\n",
    "| 1       | small  | yes        | black   | naked | yes   |\n",
    "| 2 | large | yes | gray | long | yes |\n",
    "| 3 | large | no | white | long | no |\n",
    "| 4 | medium | yes | gray | short | yes |\n",
    "| 5 | small | no | black | naked | no |\n",
    "\n",
    "__Note__: Neither the running number nor the target concept *cat* are attributes.\n",
    "\n",
    "How many possible instances are there for this training data,\n",
    "i.e., what is the cardinality of the instance space *X*? Assume that there\n",
    "are no other attribute values than presented."
   ]
  },
  {
   "cell_type": "markdown",
   "metadata": {},
   "source": [
    "The training data has following attributes:\n",
    "\n",
    "size : {small, large, medium } - 3 possibilites,\n",
    "\n",
    "whiskers: {yes, no} - 2 possibilities\n",
    "\n",
    "color: {black, gray, white } - 3 possibilities\n",
    "\n",
    "fur: {naked, long, short } - 3 possibilities\n",
    "\n",
    "Total instances can be 3 * 2 * 3 * 3 = 54 possible instances. \n",
    "\n",
    "Therefore the cardinality of this training data is __54__"
   ]
  },
  {
   "cell_type": "markdown",
   "metadata": {},
   "source": [
    "How many *concepts* would be in principle possible for this instance space (no particular hypothesis language is yet selected)? "
   ]
  },
  {
   "cell_type": "markdown",
   "metadata": {},
   "source": [
    "The target concept for this instance space can be defined by \n",
    "\n",
    "__c : X -> {yes, no}__\n",
    "\n",
    "There are therefore 2 possible concepts that can be learnt : \n",
    "\n",
    "It is a cat \n",
    "\n",
    "OR \n",
    "\n",
    "It is not a cat\n"
   ]
  },
  {
   "cell_type": "markdown",
   "metadata": {},
   "source": [
    "How many hypotheses can be syntactically formulated for this instance space using the *Find-S* hypothesis language (see slides for lecture 2, p. 4-7)?"
   ]
  },
  {
   "cell_type": "markdown",
   "metadata": {},
   "source": [
    "Find-S method initializes __h__ to most specific hypothesis in __H__ and starts considering the positive training instances\n",
    "\n",
    "In the above example, there are 3 positive instances (examples which classify the image as cat). Running through Find-S method for each example as follows:\n",
    "\n",
    "<small, yes, black, naked>\n",
    "h = <small, yes, black, naked>\n",
    "\n",
    "<large, yes, gray, long>\n",
    "h =  < ?, yes, ?, ? >\n",
    "\n",
    "<large, no, white, long >\n",
    "Negative example consistent with the above hypothesis of whiskers=yes\n",
    "\n",
    "<medium, yes, gray, short> \n",
    "h =  < ?, yes, ?, ? >\n",
    "\n",
    "<small, no, black, naked>\n",
    "Ignored as negative example which is consistent with the hypothesis < ?, yes, ?, ? >\n",
    "\n",
    "\n",
    "Therefore from the above training example we can arrive at exactly ONE consistent hypothesis < ?, yes, ?, ? > . \n"
   ]
  },
  {
   "cell_type": "markdown",
   "metadata": {},
   "source": [
    "---\n",
    "# 3) Find-S\n",
    "\n",
    "Give a prove by induction for the following statement:\n",
    "\n",
    "\"*The FIND-S algorithm will always produce a hypothesis that is consistent with all instances contained in D for every given consistent (that is error-free) D.*\"\n",
    "\n",
    "A consistent *D* in this case is given, if a hypothesis in the FIND-S hypothesis language exists, that classifies all instances in *D* perfectly."
   ]
  },
  {
   "cell_type": "markdown",
   "metadata": {},
   "source": []
  },
  {
   "cell_type": "markdown",
   "metadata": {},
   "source": [
    "---\n",
    "# 4) Hypothesis Testing\n",
    "\n",
    "<br>\n",
    "Consider the mushroom dataset at \"data/UCI_mushroom_data.csv\". There are a lot of free datasets available at the UCI repository for machine learning practitioners to develop new machine learning approaches.<br>\n",
    "The mushroom dataset contains information about different kinds of mushrooms.<br> <br>\n",
    "There is a description about the different attributes and the dataset's origin in the \"data/UCI_mushroom_data_description.txt\" file. <br>\n",
    "\n",
    "We removed rows that contained missing values for your convenience. <br> <br>\n",
    "The first column of the dataset contains the class labels: <br>\n",
    "\n",
    "- **1** denotes a poisonous mushroom\n",
    "- **0** denotes a eatable mushroom\n",
    "\n",
    "There are **2156** poisonous and **3488** eatable mushrooms in the dataset.\n",
    "<br><br>\n",
    "The FIND-S Algorithm was applied to find a hypothesis to **detect poisonous mushrooms**.\n",
    "<br><br>\n",
    "Your task is to determine if the hypothesis given below is contained in the **version space** of the given mushroom dataset."
   ]
  },
  {
   "cell_type": "code",
   "execution_count": 1,
   "metadata": {},
   "outputs": [],
   "source": [
    "import pandas as pd"
   ]
  },
  {
   "cell_type": "markdown",
   "metadata": {},
   "source": [
    "To do so, first start by loading and inspecting the dataset:"
   ]
  },
  {
   "cell_type": "code",
   "execution_count": 2,
   "metadata": {},
   "outputs": [
    {
     "data": {
      "text/plain": [
       "Index(['poisonous', 'cap-shape', 'cap-surface', 'cap-color', 'bruises', 'odor',\n",
       "       'gill-attachment', 'gill-spacing', 'gill-size', 'gill-color',\n",
       "       'stalk-shape', 'stalk-root', 'stalk-surface-above-ring',\n",
       "       'stalk-surface-below-ring', 'stalk-color-above-ring',\n",
       "       'stalk-color-below-ring', 'veil-type', 'veil-color', 'ring-number',\n",
       "       'ring-type', 'spore-print-color', 'population', 'habitat'],\n",
       "      dtype='object')"
      ]
     },
     "execution_count": 2,
     "metadata": {},
     "output_type": "execute_result"
    }
   ],
   "source": [
    "data = pd.read_csv(\"data/UCI_mushroom_data.csv\")\n",
    "dframe = pd.DataFrame(data)\n",
    "dframe.head()\n",
    "dframe.columns"
   ]
  },
  {
   "cell_type": "markdown",
   "metadata": {},
   "source": [
    "Hypothesis that a mushroom is poisonous:"
   ]
  },
  {
   "cell_type": "code",
   "execution_count": 3,
   "metadata": {},
   "outputs": [],
   "source": [
    "hypothesis = ['?','?','?','f','f','f','c','b','?','e','b','?','?','?','?','p','?','?','?','h','v','?']"
   ]
  },
  {
   "cell_type": "markdown",
   "metadata": {},
   "source": [
    "Evaluate if the hypothesis is contained in the version space:"
   ]
  },
  {
   "cell_type": "code",
   "execution_count": 4,
   "metadata": {},
   "outputs": [
    {
     "name": "stdout",
     "output_type": "stream",
     "text": [
      "      poisonous cap-shape cap-surface cap-color bruises odor gill-attachment  \\\n",
      "2536          1         x           f         g       f    f               f   \n",
      "2571          1         x           f         g       f    f               f   \n",
      "2594          1         x           f         g       f    f               f   \n",
      "2605          1         x           f         g       f    f               f   \n",
      "2766          1         x           f         g       f    f               f   \n",
      "\n",
      "     gill-spacing gill-size gill-color  ... stalk-surface-below-ring  \\\n",
      "2536            c         b          h  ...                        k   \n",
      "2571            c         b          p  ...                        k   \n",
      "2594            c         b          g  ...                        k   \n",
      "2605            c         b          g  ...                        k   \n",
      "2766            c         b          g  ...                        k   \n",
      "\n",
      "     stalk-color-above-ring stalk-color-below-ring veil-type veil-color  \\\n",
      "2536                      p                      b         p          w   \n",
      "2571                      b                      p         p          w   \n",
      "2594                      b                      n         p          w   \n",
      "2605                      p                      n         p          w   \n",
      "2766                      b                      p         p          w   \n",
      "\n",
      "     ring-number ring-type spore-print-color population habitat  \n",
      "2536           o         l                 h          v       d  \n",
      "2571           o         l                 h          v       g  \n",
      "2594           o         l                 h          v       p  \n",
      "2605           o         l                 h          v       p  \n",
      "2766           o         l                 h          v       d  \n",
      "\n",
      "[5 rows x 23 columns]\n",
      "648\n"
     ]
    }
   ],
   "source": [
    "hypocheck = dframe.loc[(dframe['bruises'] == 'f') & \n",
    "                       (dframe['odor']  == 'f') & \n",
    "                       (dframe['gill-attachment'] == 'f') &\n",
    "                       (dframe['gill-spacing'] == 'c') &\n",
    "                       (dframe['gill-size'] == 'b') &\n",
    "                       (dframe['stalk-shape'] == 'e') &\n",
    "                       (dframe['stalk-root'] == 'b') &\n",
    "                       (dframe['veil-type'] == 'p') &\n",
    "                       (dframe['spore-print-color'] == 'h') &\n",
    "                       (dframe['population'] == 'v')]\n",
    "\n",
    "print(hypocheck.head())\n",
    "\n",
    "print(len(hypocheck))\n",
    "\n",
    "# The data frame with the conditions from the hypothesis produce 648 records and\n",
    "# hence hypothesis is contained in the version space."
   ]
  },
  {
   "cell_type": "markdown",
   "metadata": {},
   "source": [
    "---\n",
    "# 5) Evaluation Metrics\n",
    "\n",
    "Now that you know, whether or not the hypothesis is contained in the version space of the dataset, you can evaluate its performance on the dataset.\n",
    "\n",
    "Evaluating your findings is immensly important in machine learning, as it can often happen that something went wrong and the results are not what you first expected.\n",
    "\n",
    "\n",
    "In order to understand what the different evaluation metrics really do calculate some of them \"by hand\" (without the help of a machine learning package like sklearn).\n",
    "\n",
    "\n",
    "First, calculate the number of **True Positives** (TP), **True Negatives** (TN), **False Positives** (FP) and **False Negatives** (FN)\n",
    "\n",
    "For further information the following resources are very helpful:\n",
    "\n",
    "* https://en.wikipedia.org/wiki/Evaluation_of_binary_classifiers\n",
    "* https://agenis.shinyapps.io/tutorial-classifier/"
   ]
  },
  {
   "cell_type": "code",
   "execution_count": 5,
   "metadata": {},
   "outputs": [
    {
     "data": {
      "text/plain": [
       "3488"
      ]
     },
     "execution_count": 5,
     "metadata": {},
     "output_type": "execute_result"
    }
   ],
   "source": [
    "total_negatives = dframe.loc[dframe['poisonous'] == 0]\n",
    "total_positives = dframe.loc[dframe['poisonous'] == 1]\n",
    "len(total_negatives)"
   ]
  },
  {
   "cell_type": "markdown",
   "metadata": {},
   "source": [
    "Calculate the **Accuracy** of the hypothesis \"by hand\":"
   ]
  },
  {
   "cell_type": "code",
   "execution_count": 11,
   "metadata": {},
   "outputs": [
    {
     "name": "stdout",
     "output_type": "stream",
     "text": [
      "TP:  648\n",
      "FN:  1508\n",
      "TN:  3488\n",
      "FP:  0\n",
      "Sum of all cases:  5644\n",
      "Cases available:  5644\n",
      "Accuracy:  0.7328136073706591\n"
     ]
    }
   ],
   "source": [
    "num_totalpositives = len(total_positives) # total_positives = 2156\n",
    "num_totalnegatives = len(total_negatives) # total_negatives = 3488\n",
    "\n",
    "test_positives = dframe.loc[(dframe['bruises'] == 'f') & \n",
    "                       (dframe['odor']  == 'f') & \n",
    "                       (dframe['gill-attachment'] == 'f') &\n",
    "                       (dframe['gill-spacing'] == 'c') &\n",
    "                       (dframe['gill-size'] == 'b') &\n",
    "                       (dframe['stalk-shape'] == 'e') &\n",
    "                       (dframe['stalk-root'] == 'b') &\n",
    "                       (dframe['veil-type'] == 'p') &\n",
    "                       (dframe['spore-print-color'] == 'h') &\n",
    "                       (dframe['population'] == 'v') &\n",
    "                       (dframe['poisonous'] == 1)] \n",
    "# len(test_positives) = 648                       \n",
    "\n",
    "# list of cases which match the hypothesis but show that result is negative ('poisonous=0')\n",
    "test_negatives = dframe.loc[(dframe['bruises'] == 'f') & \n",
    "                       (dframe['odor']  == 'f') & \n",
    "                       (dframe['gill-attachment'] == 'f') &\n",
    "                       (dframe['gill-spacing'] == 'c') &\n",
    "                       (dframe['gill-size'] == 'b') &\n",
    "                       (dframe['stalk-shape'] == 'e') &\n",
    "                       (dframe['stalk-root'] == 'b') &\n",
    "                       (dframe['veil-type'] == 'p') &\n",
    "                       (dframe['spore-print-color'] == 'h') &\n",
    "                       (dframe['population'] == 'v') & \n",
    "                       (dframe['poisonous'] == 0)]\n",
    "\n",
    "len(test_positives)\n",
    "\n",
    "# No actual negatives from the samples that test positive. Hence no false_positives. All positve tests are\n",
    "# actually positive. \n",
    "\n",
    "#TP - Test is positive and the example also list the case as positive\n",
    "true_positives = len(test_positives) - len(test_negatives)\n",
    "\n",
    "#FN - Test shows negative but example is positive\n",
    "false_negatives = num_totalpositives - len(test_positives)\n",
    "\n",
    "#TN - Test is Negative and example also shows negative\n",
    "true_negatives = num_totalnegatives - len(test_negatives)\n",
    "\n",
    "#TP - Test is positive but the example shows negative\n",
    "false_positives = len(test_negatives)\n",
    "\n",
    "print(\"TP: \", true_positives)\n",
    "print(\"FN: \", false_negatives)\n",
    "print(\"TN: \", true_negatives)\n",
    "print(\"FP: \", false_positives)\n",
    "\n",
    "sum_of_all_cases = true_positives + false_positives + true_negatives + false_negatives\n",
    "\n",
    "print(\"Sum of all cases: \", (true_positives + false_negatives + true_negatives + false_positives))\n",
    "print(\"Cases available: \", len(dframe))\n",
    "\n",
    "\n",
    "accuracy = (true_positives + true_negatives) / sum_of_all_cases\n",
    "\n",
    "print (\"Accuracy: \", accuracy)\n",
    "\n",
    "# The accuracy obtained from this calculation is 73.28% "
   ]
  },
  {
   "cell_type": "markdown",
   "metadata": {},
   "source": [
    "Calculate the **Precision** of the hypothesis \"by hand\":"
   ]
  },
  {
   "cell_type": "code",
   "execution_count": 12,
   "metadata": {},
   "outputs": [
    {
     "name": "stdout",
     "output_type": "stream",
     "text": [
      "Precision:  1.0\n"
     ]
    }
   ],
   "source": [
    "precision = true_positives / (true_positives + false_positives)\n",
    "print(\"Precision: \", precision)\n",
    "\n",
    "# We get a precision of 1.0 since there are no false positives according for the hypothesis."
   ]
  },
  {
   "cell_type": "markdown",
   "metadata": {},
   "source": [
    "The machine learning package **sklearn** has a lot of usefull tools and implementations for you to use.\n",
    "\n",
    "Let's say you don't want to die from eating a random mushroom you found in the woods. \n",
    "Use sklearn's implementation of the **confusion matrix** to explain why the hypothesis represents the data well or not and if you could bet your life on the hypothesis.\n",
    "\n",
    "https://scikit-learn.org/stable/modules/generated/sklearn.metrics.confusion_matrix.html"
   ]
  },
  {
   "cell_type": "code",
   "execution_count": 24,
   "metadata": {},
   "outputs": [],
   "source": [
    "from sklearn.metrics import confusion_matrix\n",
    "from sklearn.linear_model import LogisticRegression\n",
    "from sklearn.model_selection import train_test_split"
   ]
  },
  {
   "cell_type": "code",
   "execution_count": 31,
   "metadata": {},
   "outputs": [
    {
     "name": "stdout",
     "output_type": "stream",
     "text": [
      "Train:       cap-shape cap-surface cap-color bruises odor gill-attachment  \\\n",
      "3731         f           y         e       t    n               f   \n",
      "5459         f           f         g       f    f               f   \n",
      "2399         x           f         e       t    n               f   \n",
      "5822         x           s         w       t    f               f   \n",
      "251          x           s         n       t    p               f   \n",
      "...        ...         ...       ...     ...  ...             ...   \n",
      "3772         f           y         n       t    n               f   \n",
      "5395         x           s         w       t    f               f   \n",
      "5447         x           s         g       t    f               f   \n",
      "5728         f           s         g       t    f               f   \n",
      "860          f           y         n       t    l               f   \n",
      "\n",
      "     gill-spacing gill-size gill-color stalk-shape  ...  \\\n",
      "3731            c         b          w           t  ...   \n",
      "5459            c         b          p           e  ...   \n",
      "2399            c         b          n           t  ...   \n",
      "5822            c         b          w           t  ...   \n",
      "251             c         n          p           e  ...   \n",
      "...           ...       ...        ...         ...  ...   \n",
      "3772            c         b          p           t  ...   \n",
      "5395            c         b          h           t  ...   \n",
      "5447            c         b          h           t  ...   \n",
      "5728            c         b          p           t  ...   \n",
      "860             c         b          w           e  ...   \n",
      "\n",
      "     stalk-surface-below-ring stalk-color-above-ring stalk-color-below-ring  \\\n",
      "3731                        s                      g                      p   \n",
      "5459                        k                      p                      n   \n",
      "2399                        s                      w                      w   \n",
      "5822                        f                      w                      w   \n",
      "251                         s                      w                      w   \n",
      "...                       ...                    ...                    ...   \n",
      "3772                        s                      g                      p   \n",
      "5395                        s                      w                      w   \n",
      "5447                        s                      w                      w   \n",
      "5728                        s                      w                      w   \n",
      "860                         y                      w                      w   \n",
      "\n",
      "     veil-type veil-color ring-number ring-type spore-print-color population  \\\n",
      "3731         p          w           o         p                 n          v   \n",
      "5459         p          w           o         l                 h          y   \n",
      "2399         p          w           o         p                 k          y   \n",
      "5822         p          w           o         p                 h          v   \n",
      "251          p          w           o         p                 n          s   \n",
      "...        ...        ...         ...       ...               ...        ...   \n",
      "3772         p          w           o         p                 n          v   \n",
      "5395         p          w           o         p                 h          s   \n",
      "5447         p          w           o         p                 h          s   \n",
      "5728         p          w           o         p                 h          v   \n",
      "860          p          w           o         p                 n          y   \n",
      "\n",
      "     habitat  \n",
      "3731       d  \n",
      "5459       g  \n",
      "2399       d  \n",
      "5822       u  \n",
      "251        g  \n",
      "...      ...  \n",
      "3772       d  \n",
      "5395       u  \n",
      "5447       u  \n",
      "5728       u  \n",
      "860        p  \n",
      "\n",
      "[5079 rows x 22 columns]\n",
      "Test:       cap-shape cap-surface cap-color bruises odor gill-attachment  \\\n",
      "1694         f           s         w       f    n               f   \n",
      "4452         x           y         g       f    f               f   \n",
      "3297         f           y         n       t    n               f   \n",
      "3980         f           y         g       f    f               f   \n",
      "4170         x           s         b       t    f               f   \n",
      "...        ...         ...       ...     ...  ...             ...   \n",
      "2145         f           y         n       t    n               f   \n",
      "1630         f           s         w       t    p               f   \n",
      "491          f           s         n       t    p               f   \n",
      "2380         f           f         n       t    n               f   \n",
      "471          x           y         w       t    a               f   \n",
      "\n",
      "     gill-spacing gill-size gill-color stalk-shape  ...  \\\n",
      "1694            w         b          n           t  ...   \n",
      "4452            c         b          g           e  ...   \n",
      "3297            c         b          n           t  ...   \n",
      "3980            c         b          p           e  ...   \n",
      "4170            c         b          w           t  ...   \n",
      "...           ...       ...        ...         ...  ...   \n",
      "2145            c         b          n           t  ...   \n",
      "1630            c         n          n           e  ...   \n",
      "491             c         n          p           e  ...   \n",
      "2380            c         b          n           t  ...   \n",
      "471             c         b          w           e  ...   \n",
      "\n",
      "     stalk-surface-below-ring stalk-color-above-ring stalk-color-below-ring  \\\n",
      "1694                        f                      w                      w   \n",
      "4452                        k                      n                      n   \n",
      "3297                        s                      w                      w   \n",
      "3980                        k                      b                      n   \n",
      "4170                        s                      w                      w   \n",
      "...                       ...                    ...                    ...   \n",
      "2145                        s                      p                      w   \n",
      "1630                        s                      w                      w   \n",
      "491                         s                      w                      w   \n",
      "2380                        s                      p                      g   \n",
      "471                         s                      w                      w   \n",
      "\n",
      "     veil-type veil-color ring-number ring-type spore-print-color population  \\\n",
      "1694         p          w           o         e                 n          a   \n",
      "4452         p          w           o         l                 h          y   \n",
      "3297         p          w           o         p                 k          v   \n",
      "3980         p          w           o         l                 h          v   \n",
      "4170         p          w           o         p                 h          s   \n",
      "...        ...        ...         ...       ...               ...        ...   \n",
      "2145         p          w           o         p                 k          v   \n",
      "1630         p          w           o         p                 k          s   \n",
      "491          p          w           o         p                 n          s   \n",
      "2380         p          w           o         p                 k          y   \n",
      "471          p          w           o         p                 k          n   \n",
      "\n",
      "     habitat  \n",
      "1694       g  \n",
      "4452       g  \n",
      "3297       d  \n",
      "3980       g  \n",
      "4170       u  \n",
      "...      ...  \n",
      "2145       d  \n",
      "1630       u  \n",
      "491        g  \n",
      "2380       d  \n",
      "471        m  \n",
      "\n",
      "[565 rows x 22 columns]\n"
     ]
    },
    {
     "ename": "ValueError",
     "evalue": "could not convert string to float: 'f'",
     "output_type": "error",
     "traceback": [
      "\u001b[0;31m---------------------------------------------------------------------------\u001b[0m",
      "\u001b[0;31mValueError\u001b[0m                                Traceback (most recent call last)",
      "\u001b[0;32m<ipython-input-31-a115ae7106c3>\u001b[0m in \u001b[0;36m<module>\u001b[0;34m\u001b[0m\n\u001b[1;32m     24\u001b[0m \u001b[0;34m\u001b[0m\u001b[0m\n\u001b[1;32m     25\u001b[0m \u001b[0mLR\u001b[0m \u001b[0;34m=\u001b[0m \u001b[0mLogisticRegression\u001b[0m\u001b[0;34m(\u001b[0m\u001b[0;34m)\u001b[0m\u001b[0;34m\u001b[0m\u001b[0;34m\u001b[0m\u001b[0m\n\u001b[0;32m---> 26\u001b[0;31m \u001b[0mLR\u001b[0m\u001b[0;34m.\u001b[0m\u001b[0mfit\u001b[0m\u001b[0;34m(\u001b[0m\u001b[0mx_train\u001b[0m\u001b[0;34m,\u001b[0m \u001b[0my_train\u001b[0m\u001b[0;34m)\u001b[0m\u001b[0;34m\u001b[0m\u001b[0;34m\u001b[0m\u001b[0m\n\u001b[0m\u001b[1;32m     27\u001b[0m \u001b[0my_pred\u001b[0m \u001b[0;34m=\u001b[0m \u001b[0mLR\u001b[0m\u001b[0;34m.\u001b[0m\u001b[0mpredict\u001b[0m\u001b[0;34m(\u001b[0m\u001b[0mx_test\u001b[0m\u001b[0;34m)\u001b[0m\u001b[0;34m\u001b[0m\u001b[0;34m\u001b[0m\u001b[0m\n\u001b[1;32m     28\u001b[0m \u001b[0;34m\u001b[0m\u001b[0m\n",
      "\u001b[0;32m~/anaconda3/envs/ml_zone/lib/python3.6/site-packages/sklearn/linear_model/_logistic.py\u001b[0m in \u001b[0;36mfit\u001b[0;34m(self, X, y, sample_weight)\u001b[0m\n\u001b[1;32m   1342\u001b[0m         X, y = self._validate_data(X, y, accept_sparse='csr', dtype=_dtype,\n\u001b[1;32m   1343\u001b[0m                                    \u001b[0morder\u001b[0m\u001b[0;34m=\u001b[0m\u001b[0;34m\"C\"\u001b[0m\u001b[0;34m,\u001b[0m\u001b[0;34m\u001b[0m\u001b[0;34m\u001b[0m\u001b[0m\n\u001b[0;32m-> 1344\u001b[0;31m                                    accept_large_sparse=solver != 'liblinear')\n\u001b[0m\u001b[1;32m   1345\u001b[0m         \u001b[0mcheck_classification_targets\u001b[0m\u001b[0;34m(\u001b[0m\u001b[0my\u001b[0m\u001b[0;34m)\u001b[0m\u001b[0;34m\u001b[0m\u001b[0;34m\u001b[0m\u001b[0m\n\u001b[1;32m   1346\u001b[0m         \u001b[0mself\u001b[0m\u001b[0;34m.\u001b[0m\u001b[0mclasses_\u001b[0m \u001b[0;34m=\u001b[0m \u001b[0mnp\u001b[0m\u001b[0;34m.\u001b[0m\u001b[0munique\u001b[0m\u001b[0;34m(\u001b[0m\u001b[0my\u001b[0m\u001b[0;34m)\u001b[0m\u001b[0;34m\u001b[0m\u001b[0;34m\u001b[0m\u001b[0m\n",
      "\u001b[0;32m~/anaconda3/envs/ml_zone/lib/python3.6/site-packages/sklearn/base.py\u001b[0m in \u001b[0;36m_validate_data\u001b[0;34m(self, X, y, reset, validate_separately, **check_params)\u001b[0m\n\u001b[1;32m    430\u001b[0m                 \u001b[0my\u001b[0m \u001b[0;34m=\u001b[0m \u001b[0mcheck_array\u001b[0m\u001b[0;34m(\u001b[0m\u001b[0my\u001b[0m\u001b[0;34m,\u001b[0m \u001b[0;34m**\u001b[0m\u001b[0mcheck_y_params\u001b[0m\u001b[0;34m)\u001b[0m\u001b[0;34m\u001b[0m\u001b[0;34m\u001b[0m\u001b[0m\n\u001b[1;32m    431\u001b[0m             \u001b[0;32melse\u001b[0m\u001b[0;34m:\u001b[0m\u001b[0;34m\u001b[0m\u001b[0;34m\u001b[0m\u001b[0m\n\u001b[0;32m--> 432\u001b[0;31m                 \u001b[0mX\u001b[0m\u001b[0;34m,\u001b[0m \u001b[0my\u001b[0m \u001b[0;34m=\u001b[0m \u001b[0mcheck_X_y\u001b[0m\u001b[0;34m(\u001b[0m\u001b[0mX\u001b[0m\u001b[0;34m,\u001b[0m \u001b[0my\u001b[0m\u001b[0;34m,\u001b[0m \u001b[0;34m**\u001b[0m\u001b[0mcheck_params\u001b[0m\u001b[0;34m)\u001b[0m\u001b[0;34m\u001b[0m\u001b[0;34m\u001b[0m\u001b[0m\n\u001b[0m\u001b[1;32m    433\u001b[0m             \u001b[0mout\u001b[0m \u001b[0;34m=\u001b[0m \u001b[0mX\u001b[0m\u001b[0;34m,\u001b[0m \u001b[0my\u001b[0m\u001b[0;34m\u001b[0m\u001b[0;34m\u001b[0m\u001b[0m\n\u001b[1;32m    434\u001b[0m \u001b[0;34m\u001b[0m\u001b[0m\n",
      "\u001b[0;32m~/anaconda3/envs/ml_zone/lib/python3.6/site-packages/sklearn/utils/validation.py\u001b[0m in \u001b[0;36minner_f\u001b[0;34m(*args, **kwargs)\u001b[0m\n\u001b[1;32m     70\u001b[0m                           FutureWarning)\n\u001b[1;32m     71\u001b[0m         \u001b[0mkwargs\u001b[0m\u001b[0;34m.\u001b[0m\u001b[0mupdate\u001b[0m\u001b[0;34m(\u001b[0m\u001b[0;34m{\u001b[0m\u001b[0mk\u001b[0m\u001b[0;34m:\u001b[0m \u001b[0marg\u001b[0m \u001b[0;32mfor\u001b[0m \u001b[0mk\u001b[0m\u001b[0;34m,\u001b[0m \u001b[0marg\u001b[0m \u001b[0;32min\u001b[0m \u001b[0mzip\u001b[0m\u001b[0;34m(\u001b[0m\u001b[0msig\u001b[0m\u001b[0;34m.\u001b[0m\u001b[0mparameters\u001b[0m\u001b[0;34m,\u001b[0m \u001b[0margs\u001b[0m\u001b[0;34m)\u001b[0m\u001b[0;34m}\u001b[0m\u001b[0;34m)\u001b[0m\u001b[0;34m\u001b[0m\u001b[0;34m\u001b[0m\u001b[0m\n\u001b[0;32m---> 72\u001b[0;31m         \u001b[0;32mreturn\u001b[0m \u001b[0mf\u001b[0m\u001b[0;34m(\u001b[0m\u001b[0;34m**\u001b[0m\u001b[0mkwargs\u001b[0m\u001b[0;34m)\u001b[0m\u001b[0;34m\u001b[0m\u001b[0;34m\u001b[0m\u001b[0m\n\u001b[0m\u001b[1;32m     73\u001b[0m     \u001b[0;32mreturn\u001b[0m \u001b[0minner_f\u001b[0m\u001b[0;34m\u001b[0m\u001b[0;34m\u001b[0m\u001b[0m\n\u001b[1;32m     74\u001b[0m \u001b[0;34m\u001b[0m\u001b[0m\n",
      "\u001b[0;32m~/anaconda3/envs/ml_zone/lib/python3.6/site-packages/sklearn/utils/validation.py\u001b[0m in \u001b[0;36mcheck_X_y\u001b[0;34m(X, y, accept_sparse, accept_large_sparse, dtype, order, copy, force_all_finite, ensure_2d, allow_nd, multi_output, ensure_min_samples, ensure_min_features, y_numeric, estimator)\u001b[0m\n\u001b[1;32m    800\u001b[0m                     \u001b[0mensure_min_samples\u001b[0m\u001b[0;34m=\u001b[0m\u001b[0mensure_min_samples\u001b[0m\u001b[0;34m,\u001b[0m\u001b[0;34m\u001b[0m\u001b[0;34m\u001b[0m\u001b[0m\n\u001b[1;32m    801\u001b[0m                     \u001b[0mensure_min_features\u001b[0m\u001b[0;34m=\u001b[0m\u001b[0mensure_min_features\u001b[0m\u001b[0;34m,\u001b[0m\u001b[0;34m\u001b[0m\u001b[0;34m\u001b[0m\u001b[0m\n\u001b[0;32m--> 802\u001b[0;31m                     estimator=estimator)\n\u001b[0m\u001b[1;32m    803\u001b[0m     \u001b[0;32mif\u001b[0m \u001b[0mmulti_output\u001b[0m\u001b[0;34m:\u001b[0m\u001b[0;34m\u001b[0m\u001b[0;34m\u001b[0m\u001b[0m\n\u001b[1;32m    804\u001b[0m         y = check_array(y, accept_sparse='csr', force_all_finite=True,\n",
      "\u001b[0;32m~/anaconda3/envs/ml_zone/lib/python3.6/site-packages/sklearn/utils/validation.py\u001b[0m in \u001b[0;36minner_f\u001b[0;34m(*args, **kwargs)\u001b[0m\n\u001b[1;32m     70\u001b[0m                           FutureWarning)\n\u001b[1;32m     71\u001b[0m         \u001b[0mkwargs\u001b[0m\u001b[0;34m.\u001b[0m\u001b[0mupdate\u001b[0m\u001b[0;34m(\u001b[0m\u001b[0;34m{\u001b[0m\u001b[0mk\u001b[0m\u001b[0;34m:\u001b[0m \u001b[0marg\u001b[0m \u001b[0;32mfor\u001b[0m \u001b[0mk\u001b[0m\u001b[0;34m,\u001b[0m \u001b[0marg\u001b[0m \u001b[0;32min\u001b[0m \u001b[0mzip\u001b[0m\u001b[0;34m(\u001b[0m\u001b[0msig\u001b[0m\u001b[0;34m.\u001b[0m\u001b[0mparameters\u001b[0m\u001b[0;34m,\u001b[0m \u001b[0margs\u001b[0m\u001b[0;34m)\u001b[0m\u001b[0;34m}\u001b[0m\u001b[0;34m)\u001b[0m\u001b[0;34m\u001b[0m\u001b[0;34m\u001b[0m\u001b[0m\n\u001b[0;32m---> 72\u001b[0;31m         \u001b[0;32mreturn\u001b[0m \u001b[0mf\u001b[0m\u001b[0;34m(\u001b[0m\u001b[0;34m**\u001b[0m\u001b[0mkwargs\u001b[0m\u001b[0;34m)\u001b[0m\u001b[0;34m\u001b[0m\u001b[0;34m\u001b[0m\u001b[0m\n\u001b[0m\u001b[1;32m     73\u001b[0m     \u001b[0;32mreturn\u001b[0m \u001b[0minner_f\u001b[0m\u001b[0;34m\u001b[0m\u001b[0;34m\u001b[0m\u001b[0m\n\u001b[1;32m     74\u001b[0m \u001b[0;34m\u001b[0m\u001b[0m\n",
      "\u001b[0;32m~/anaconda3/envs/ml_zone/lib/python3.6/site-packages/sklearn/utils/validation.py\u001b[0m in \u001b[0;36mcheck_array\u001b[0;34m(array, accept_sparse, accept_large_sparse, dtype, order, copy, force_all_finite, ensure_2d, allow_nd, ensure_min_samples, ensure_min_features, estimator)\u001b[0m\n\u001b[1;32m    596\u001b[0m                     \u001b[0marray\u001b[0m \u001b[0;34m=\u001b[0m \u001b[0marray\u001b[0m\u001b[0;34m.\u001b[0m\u001b[0mastype\u001b[0m\u001b[0;34m(\u001b[0m\u001b[0mdtype\u001b[0m\u001b[0;34m,\u001b[0m \u001b[0mcasting\u001b[0m\u001b[0;34m=\u001b[0m\u001b[0;34m\"unsafe\"\u001b[0m\u001b[0;34m,\u001b[0m \u001b[0mcopy\u001b[0m\u001b[0;34m=\u001b[0m\u001b[0;32mFalse\u001b[0m\u001b[0;34m)\u001b[0m\u001b[0;34m\u001b[0m\u001b[0;34m\u001b[0m\u001b[0m\n\u001b[1;32m    597\u001b[0m                 \u001b[0;32melse\u001b[0m\u001b[0;34m:\u001b[0m\u001b[0;34m\u001b[0m\u001b[0;34m\u001b[0m\u001b[0m\n\u001b[0;32m--> 598\u001b[0;31m                     \u001b[0marray\u001b[0m \u001b[0;34m=\u001b[0m \u001b[0mnp\u001b[0m\u001b[0;34m.\u001b[0m\u001b[0masarray\u001b[0m\u001b[0;34m(\u001b[0m\u001b[0marray\u001b[0m\u001b[0;34m,\u001b[0m \u001b[0morder\u001b[0m\u001b[0;34m=\u001b[0m\u001b[0morder\u001b[0m\u001b[0;34m,\u001b[0m \u001b[0mdtype\u001b[0m\u001b[0;34m=\u001b[0m\u001b[0mdtype\u001b[0m\u001b[0;34m)\u001b[0m\u001b[0;34m\u001b[0m\u001b[0;34m\u001b[0m\u001b[0m\n\u001b[0m\u001b[1;32m    599\u001b[0m             \u001b[0;32mexcept\u001b[0m \u001b[0mComplexWarning\u001b[0m\u001b[0;34m:\u001b[0m\u001b[0;34m\u001b[0m\u001b[0;34m\u001b[0m\u001b[0m\n\u001b[1;32m    600\u001b[0m                 raise ValueError(\"Complex data not supported\\n\"\n",
      "\u001b[0;32m~/anaconda3/envs/ml_zone/lib/python3.6/site-packages/numpy/core/_asarray.py\u001b[0m in \u001b[0;36masarray\u001b[0;34m(a, dtype, order)\u001b[0m\n\u001b[1;32m     81\u001b[0m \u001b[0;34m\u001b[0m\u001b[0m\n\u001b[1;32m     82\u001b[0m     \"\"\"\n\u001b[0;32m---> 83\u001b[0;31m     \u001b[0;32mreturn\u001b[0m \u001b[0marray\u001b[0m\u001b[0;34m(\u001b[0m\u001b[0ma\u001b[0m\u001b[0;34m,\u001b[0m \u001b[0mdtype\u001b[0m\u001b[0;34m,\u001b[0m \u001b[0mcopy\u001b[0m\u001b[0;34m=\u001b[0m\u001b[0;32mFalse\u001b[0m\u001b[0;34m,\u001b[0m \u001b[0morder\u001b[0m\u001b[0;34m=\u001b[0m\u001b[0morder\u001b[0m\u001b[0;34m)\u001b[0m\u001b[0;34m\u001b[0m\u001b[0;34m\u001b[0m\u001b[0m\n\u001b[0m\u001b[1;32m     84\u001b[0m \u001b[0;34m\u001b[0m\u001b[0m\n\u001b[1;32m     85\u001b[0m \u001b[0;34m\u001b[0m\u001b[0m\n",
      "\u001b[0;32m~/anaconda3/envs/ml_zone/lib/python3.6/site-packages/pandas/core/generic.py\u001b[0m in \u001b[0;36m__array__\u001b[0;34m(self, dtype)\u001b[0m\n\u001b[1;32m   1779\u001b[0m \u001b[0;34m\u001b[0m\u001b[0m\n\u001b[1;32m   1780\u001b[0m     \u001b[0;32mdef\u001b[0m \u001b[0m__array__\u001b[0m\u001b[0;34m(\u001b[0m\u001b[0mself\u001b[0m\u001b[0;34m,\u001b[0m \u001b[0mdtype\u001b[0m\u001b[0;34m=\u001b[0m\u001b[0;32mNone\u001b[0m\u001b[0;34m)\u001b[0m \u001b[0;34m->\u001b[0m \u001b[0mnp\u001b[0m\u001b[0;34m.\u001b[0m\u001b[0mndarray\u001b[0m\u001b[0;34m:\u001b[0m\u001b[0;34m\u001b[0m\u001b[0;34m\u001b[0m\u001b[0m\n\u001b[0;32m-> 1781\u001b[0;31m         \u001b[0;32mreturn\u001b[0m \u001b[0mnp\u001b[0m\u001b[0;34m.\u001b[0m\u001b[0masarray\u001b[0m\u001b[0;34m(\u001b[0m\u001b[0mself\u001b[0m\u001b[0;34m.\u001b[0m\u001b[0m_values\u001b[0m\u001b[0;34m,\u001b[0m \u001b[0mdtype\u001b[0m\u001b[0;34m=\u001b[0m\u001b[0mdtype\u001b[0m\u001b[0;34m)\u001b[0m\u001b[0;34m\u001b[0m\u001b[0;34m\u001b[0m\u001b[0m\n\u001b[0m\u001b[1;32m   1782\u001b[0m \u001b[0;34m\u001b[0m\u001b[0m\n\u001b[1;32m   1783\u001b[0m     \u001b[0;32mdef\u001b[0m \u001b[0m__array_wrap__\u001b[0m\u001b[0;34m(\u001b[0m\u001b[0mself\u001b[0m\u001b[0;34m,\u001b[0m \u001b[0mresult\u001b[0m\u001b[0;34m,\u001b[0m \u001b[0mcontext\u001b[0m\u001b[0;34m=\u001b[0m\u001b[0;32mNone\u001b[0m\u001b[0;34m)\u001b[0m\u001b[0;34m:\u001b[0m\u001b[0;34m\u001b[0m\u001b[0;34m\u001b[0m\u001b[0m\n",
      "\u001b[0;32m~/anaconda3/envs/ml_zone/lib/python3.6/site-packages/numpy/core/_asarray.py\u001b[0m in \u001b[0;36masarray\u001b[0;34m(a, dtype, order)\u001b[0m\n\u001b[1;32m     81\u001b[0m \u001b[0;34m\u001b[0m\u001b[0m\n\u001b[1;32m     82\u001b[0m     \"\"\"\n\u001b[0;32m---> 83\u001b[0;31m     \u001b[0;32mreturn\u001b[0m \u001b[0marray\u001b[0m\u001b[0;34m(\u001b[0m\u001b[0ma\u001b[0m\u001b[0;34m,\u001b[0m \u001b[0mdtype\u001b[0m\u001b[0;34m,\u001b[0m \u001b[0mcopy\u001b[0m\u001b[0;34m=\u001b[0m\u001b[0;32mFalse\u001b[0m\u001b[0;34m,\u001b[0m \u001b[0morder\u001b[0m\u001b[0;34m=\u001b[0m\u001b[0morder\u001b[0m\u001b[0;34m)\u001b[0m\u001b[0;34m\u001b[0m\u001b[0;34m\u001b[0m\u001b[0m\n\u001b[0m\u001b[1;32m     84\u001b[0m \u001b[0;34m\u001b[0m\u001b[0m\n\u001b[1;32m     85\u001b[0m \u001b[0;34m\u001b[0m\u001b[0m\n",
      "\u001b[0;31mValueError\u001b[0m: could not convert string to float: 'f'"
     ]
    }
   ],
   "source": [
    "# Samples that say mushroom is poisonous (True)\n",
    "dframe['poisonous'].value_counts()\n",
    "y = dframe['poisonous']\n",
    "x = dframe.drop(columns = ['poisonous'])\n",
    "x_train, x_test, y_train, y_test = train_test_split(x, y, test_size=0.1, random_state=42)\n",
    "\n",
    "\n",
    "# cases_true = dframe.loc[(dframe['poisonous'] == 1)].head()\n",
    "\n",
    "# Samples that the hypothesis predicts to be True\n",
    "# pred_true = dframe.loc[(dframe['bruises'] == 'f') & \n",
    "#                       (dframe['odor']  == 'f') & \n",
    "#                        (dframe['gill-attachment'] == 'f') &\n",
    "#                        (dframe['gill-spacing'] == 'c') &\n",
    "#                        (dframe['gill-size'] == 'b') &\n",
    "#                        (dframe['stalk-shape'] == 'e') &\n",
    "#                        (dframe['stalk-root'] == 'b') &\n",
    "#                        (dframe['veil-type'] == 'p') &\n",
    "#                        (dframe['spore-print-color'] == 'h') &\n",
    "#                        (dframe['population'] == 'v')].head()\n",
    "\n",
    "print(\"Train: \", x_train)\n",
    "print(\"Test: \", x_test)\n",
    "\n",
    "LR = LogisticRegression()\n",
    "LR.fit(x_train, y_train)\n",
    "y_pred = LR.predict(x_test)\n",
    "\n",
    "conf_mtx = confusion_matrix(y_test, y_pred)\n",
    "\n",
    "\n",
    "                        \n",
    "                        "
   ]
  },
  {
   "cell_type": "markdown",
   "metadata": {},
   "source": [
    "Finally, calculate the **Recall** and the **F1-Score** of the hypothesis \"by hand\":"
   ]
  },
  {
   "cell_type": "code",
   "execution_count": null,
   "metadata": {},
   "outputs": [],
   "source": []
  },
  {
   "cell_type": "markdown",
   "metadata": {},
   "source": [
    "---\n",
    "# Tips and tricks"
   ]
  },
  {
   "cell_type": "markdown",
   "metadata": {},
   "source": [
    "\n",
    "### 1) Embedding images\n",
    "You can embed images in a jupyter notebook on two ways: <br/>\n",
    "**First**, you can use the IPython kernel to draw an image everytime the code cell is run like shown below."
   ]
  },
  {
   "cell_type": "code",
   "execution_count": null,
   "metadata": {},
   "outputs": [],
   "source": [
    "from IPython.display import Image\n",
    "Image(\"images/logo.png\")"
   ]
  },
  {
   "cell_type": "markdown",
   "metadata": {},
   "source": [
    "**Second**, you can embed images directly in a Markdown cell as shown below. You can either use markdown syntax or write plain HTML code. Sometimes HTML code is more practical, as you have much finer control over the HTML elements."
   ]
  },
  {
   "cell_type": "markdown",
   "metadata": {},
   "source": [
    "1. Markdown syntax:\n",
    "![title](images/logo.png)\n",
    "2. HTML syntax\n",
    "<img src=\"images/logo.png\" style=\"width: 70px;\"/>"
   ]
  }
 ],
 "metadata": {
  "jupytext": {
   "cell_metadata_filter": "-all",
   "encoding": "# -*- coding: utf-8 -*-",
   "notebook_metadata_filter": "-all",
   "text_representation": {
    "extension": ".py",
    "format_name": "light"
   }
  },
  "kernelspec": {
   "display_name": "Python 3",
   "language": "python",
   "name": "python3"
  },
  "language_info": {
   "codemirror_mode": {
    "name": "ipython",
    "version": 3
   },
   "file_extension": ".py",
   "mimetype": "text/x-python",
   "name": "python",
   "nbconvert_exporter": "python",
   "pygments_lexer": "ipython3",
   "version": "3.6.12"
  }
 },
 "nbformat": 4,
 "nbformat_minor": 4
}
